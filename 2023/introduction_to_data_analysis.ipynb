{
 "cells": [
  {
   "cell_type": "markdown",
   "id": "da27afb9-9cd3-4ae6-88c0-9bb9f97bf5d8",
   "metadata": {},
   "source": [
    " ### <br><b> Introduction to data analysis</b>\n",
    "\n",
    "-->This document can't be modified. You don't have the authority to save changes to this notebook. \n",
    "<br>***So be sure you download your work before exiting!***  (use the above **download** buttun)\n",
    "\n",
    "In this TP we will introduce you to xarray; an open source project and Python package that makes working with labelled multi-dimensional arrays simple, efficient, and fun!\n",
    "\n",
    "We will do that with a data set of climate variables from GRENOBLE-ST GEOIRS AEROPORT , which are downloaded from METEO FRANCE site.\n",
    ">In case your curiosity strikes you:\n",
    "    <u><br>https://donneespubliques.meteofrance.fr/</u>\n",
    "\n",
    "As getting the data through this interface is kind of clumsy, a version is available from the following file: /Data/Data.nc\n",
    "\n",
    "This datafile contains following data:\n",
    "\n",
    "> <u>Variables:</u>\n",
    "    <br>- max/min/mean temperature\n",
    "    <br>- total precipitation \n",
    "  <br><u>Temporal coverage: </u>\n",
    "        <br>1968/01/01-2022/01/31\n",
    "\n",
    "<br><b>Notebook Overview:</b>\n",
    "\n",
    "> 1) Statistical analysis of temporal changes \n",
    "  2) Distribution analysis of data\n",
    "  3) Correlation analysis\n",
    "  4) Analysis of the temporal evolution of snow in Grenoble \n",
    "\n",
    "\n",
    "You are here to learn don't hesitate to ask if you are stuck (instead of copying your colleague's code ;))"
   ]
  },
  {
   "cell_type": "markdown",
   "id": "c940147e-339e-4875-af63-c3d2df6d3c45",
   "metadata": {},
   "source": [
    "### >> <b> Load Libraries</b>\n"
   ]
  },
  {
   "cell_type": "code",
   "execution_count": 3,
   "id": "cb11a710-c1e8-444c-a455-2212cdf15d53",
   "metadata": {},
   "outputs": [],
   "source": [
    "# to render your plots in your notebook %matplotlib inline \n",
    "%matplotlib inline \n",
    "import matplotlib.pyplot as plt # for plots \n",
    "import numpy as np # mathematical functions\n",
    "import xarray as xr \n",
    "import pandas as pd \n",
    "from scipy import stats\n",
    "import statsmodels.api as sm\n",
    "from scipy.stats import gamma\n",
    "from scipy.stats import norm\n",
    "from scipy import signal"
   ]
  },
  {
   "cell_type": "markdown",
   "id": "a0a7e5b7-7308-4674-bb0a-4de151f97cca",
   "metadata": {},
   "source": [
    "### >> <b> Get started with Xarray</b>"
   ]
  },
  {
   "cell_type": "markdown",
   "id": "154b37ad-323c-4830-b758-f1f2c39e81cb",
   "metadata": {},
   "source": [
    "Xarray introduces labels in the form of dimensions, coordinates and attributes on top of raw NumPy-like arrays, which allows for a more intuitive, more concise, and less error-prone developer experience. \n",
    "Then a variable consists of: \n",
    "\n",
    "* dims: A tuple of dimension names.\n",
    "* data: The N-dimensional array (typically, a NumPy or Dask array) storing the Variable’s data. It must have the same number of dimensions as the length of dims.\n",
    "* attrs: An ordered dictionary of metadata associated with this array.\n",
    "* encoding: Another ordered dictionary used to store information about how these variable’s data is represented on disk. \n"
   ]
  },
  {
   "cell_type": "code",
   "execution_count": 22,
   "id": "5ad76b58-b382-4419-93bb-223184ada434",
   "metadata": {},
   "outputs": [],
   "source": [
    "# Open the netcdf file using xarray \n",
    "# Don't forget to change the file path ;)\n",
    "da=xr.open_dataset('/home/jomaaf/TP_master/2022/Data/Data.nc')\n",
    "# da"
   ]
  },
  {
   "cell_type": "code",
   "execution_count": 26,
   "id": "adfb2fc9-721f-49c5-95c9-096f9908fab0",
   "metadata": {},
   "outputs": [
    {
     "data": {
      "text/plain": [
       "Coordinates:\n",
       "  * time     (time) datetime64[ns] 1968-01-01 1968-01-02 ... 2022-01-31"
      ]
     },
     "execution_count": 26,
     "metadata": {},
     "output_type": "execute_result"
    }
   ],
   "source": [
    "da.attrs\n",
    "da.encoding\n",
    "da.dims\n",
    "da.coords"
   ]
  },
  {
   "cell_type": "markdown",
   "id": "e5b85e67-5634-45f3-9cc8-5c6bbebf5100",
   "metadata": {},
   "source": [
    "**Select Variables:**"
   ]
  },
  {
   "cell_type": "code",
   "execution_count": 20,
   "id": "ce806062-5dbf-4560-b738-5be6a311388c",
   "metadata": {},
   "outputs": [],
   "source": [
    "# To call a variable \n",
    "pr=da.Precipitation\n",
    "meanT=da.mean_T\n",
    "minT=da.min_T\n",
    "maxT=da.max_T"
   ]
  },
  {
   "cell_type": "code",
   "execution_count": 7,
   "id": "bb04355b-22f5-4832-9b85-a2f7aad776fd",
   "metadata": {
    "tags": []
   },
   "outputs": [],
   "source": [
    "# select time (for instance)\n",
    "da=da.sel(time=slice('1979-01-01','2021-12-31'))"
   ]
  },
  {
   "cell_type": "code",
   "execution_count": 21,
   "id": "53b6dcfc-cb7f-434a-951f-13a9e85b4008",
   "metadata": {},
   "outputs": [],
   "source": [
    "# Annual averages \n",
    "Y=da.groupby('time.year').mean('time').Precipitation\n",
    "\n",
    "# Monthly averages \n",
    "M=da.groupby('time.month').mean('time').Precipitation"
   ]
  },
  {
   "cell_type": "markdown",
   "id": "36270f0f-2796-48d6-b08a-b386b18f56c5",
   "metadata": {
    "jp-MarkdownHeadingCollapsed": true,
    "tags": []
   },
   "source": [
    "## 1.\tStatistical analysis of temporal changes \n",
    "## Tasks\n",
    "-----\n",
    "**1.1)**\n",
    "Calculate and plot the seasonal means for all data sets. Define the seasons as winter (DJF), spring (MAM), summer (JJA) and autumn (SON).  \n",
    "Calculate and plot the annual means for all data sets.  \n",
    "\n",
    "**1.2)** \n",
    "Calculate linear trends and their significance according to Student t-test at 95% level for all mean time series.\n",
    "Plot the trend lines on the same graphs in 1.1. \n",
    "What do you conclude about the temporal changes of temperature and precipitation in Grenoble for different seasons and for annual values?\n",
    "\n",
    "**1.3)** \n",
    "Calculate linear trends and their significance (according Student t-test) for daily data for T mean and precipitation. Compare your results with annual trends for Tmean and precipitation. Conclude.\n"
   ]
  },
  {
   "cell_type": "markdown",
   "id": "77410660-2e88-4ae4-9912-529ff7cce72b",
   "metadata": {},
   "source": [
    "## Hints:\n",
    "-------------------------------------------------------------------------------\n",
    "<br>--> To define seasons, years use: [xarray.DataArray.groupby](https://docs.xarray.dev/en/stable/generated/xarray.DataArray.groupby.html)\n",
    "<br>--> To calculate linear trends use: [stats.linregress](https://scikit-learn.org/stable/modules/generated/sklearn.linear_model.LinearRegression.html)\n",
    "<br>--> For Student t-test use: [statsmodels.regression.linear](https://www.statsmodels.org/dev/generated/statsmodels.regression.linear_model.OLS.html),  you may need: [ttable](https://www.sjsu.edu/faculty/gerstman/StatPrimer/t-table.pdf)\n",
    ">#### *Reminder:*\n",
    "$t=\\frac{B}{S_{a}}$\n",
    "<br>$S_{e}^2 =\\frac{1}{n-2}\\sum_{i=1}^{n} e^2$\n",
    "<br>$S_{a}^2 =\\frac{S_{e}^2}{\\sum_{i=1}^{n}(x-x^-)^2}$\n",
    "<br>$Y=A+Bx+e$\n",
    "<br>*where:*\n",
    "<br>$e $: residuals of regression\n",
    "<br>$B $: slope of regression\n",
    "<br>$t $: t-statistics\n",
    "<br>$S_{e}^2$: residual variance\n",
    "<br>$S_{a}^2$: sigma slope\n",
    "\n",
    "--> For plottinguse : [matplotlib](https://matplotlib.org/stable/tutorials/introductory/pyplot.html)"
   ]
  },
  {
   "cell_type": "code",
   "execution_count": null,
   "id": "8cb7e297-7804-4578-8a6c-4f3b542da672",
   "metadata": {},
   "outputs": [],
   "source": []
  },
  {
   "cell_type": "code",
   "execution_count": null,
   "id": "fd1ba95c-94a9-4362-85fb-6c3ed72e5cd4",
   "metadata": {},
   "outputs": [],
   "source": []
  },
  {
   "cell_type": "markdown",
   "id": "852c717a-a316-4caa-b62d-af4d4c7174c4",
   "metadata": {},
   "source": [
    "## 2. Analysis of the distribution of data\n",
    "## Tasks\n",
    "-----\n",
    "<br>**2.1)** Plot the histograms for T mean and precipitation. Be careful with choosing the bins.\n",
    "<br>Apply Gaussian distribution to daily Tmean. Plot it on the histogram in 2.1. and write the parameters of the distribution. \n",
    "<br>Apply Gamma distribution for daily precipitation data. Plot it on the histogram in 2.1. and write rite the parameters of of the distribution.\n",
    "\n",
    "**2.2)** Use chi-squared test to see the goodness of fit of Gaussian distribution to Tmean. Use K-S test for precipitation data. \n",
    "<br>Make your conclusions how well these distributions fit to the data.\n",
    "\n",
    "## Hints\n",
    "-----------\n",
    "-->To plot the histograms checkout: [matplotlib.pyplot.hist](https://matplotlib.org/stable/api/_as_gen/matplotlib.pyplot.hist.html)\n",
    "<br>-->Gaussian distribuation: [scipy.norm](https://docs.scipy.org/doc/scipy/reference/generated/scipy.stats.norm.html)\n",
    "<br>-->Gamma distribuation: [scipy.gamma](https://docs.scipy.org/doc/scipy/reference/generated/scipy.stats.gamma.html)"
   ]
  },
  {
   "cell_type": "code",
   "execution_count": null,
   "id": "9835fc8a-c8dd-4523-9c61-73d64465c342",
   "metadata": {},
   "outputs": [],
   "source": []
  },
  {
   "cell_type": "code",
   "execution_count": null,
   "id": "406e196d-a767-4a77-9a44-649581e386d9",
   "metadata": {},
   "outputs": [],
   "source": []
  },
  {
   "cell_type": "markdown",
   "id": "d4198806-d2c1-442f-b80d-ca143d3e56d7",
   "metadata": {
    "tags": []
   },
   "source": [
    "## 3. Correlation analysis\n",
    "## Tasks\n",
    "-----\n",
    "**3.1)** Calculate the correlation and its significance between annual maximum and minimum temperatures for the four seasons.\n",
    "<br>Conclude.\n",
    "\n",
    "**3.3)** Remove trends from the annual mean Tmax and Tmean data and calculate again the correlation and its significance.\n",
    "\n",
    "**3.3)** Compare your results from 3.2. with 3.1. and conclude.\n",
    "\n",
    "**3.3)** Calculate correlation and significance between mean temperature and precipitation with and without trend. \n",
    "<br>What do you conclude about the relationship between these two variables and the influence of trends to the results.\n",
    "\n",
    "## Hints\n",
    "-----------\n",
    "-->To calculate the pearson correlation: [scipy.stats.pearsonr](https://docs.scipy.org/doc/scipy/reference/generated/scipy.stats.pearsonr.html)\n",
    "<br> For correlation significance you will use:  [Critical Values of the Linear Correlation Coefficient ](https://www.google.com/url?sa=t&rct=j&q=&esrc=s&source=web&cd=&ved=2ahUKEwjG8Zis6uz9AhWLh_0HHRUJD0sQFnoECBsQAQ&url=https%3A%2F%2Fwww.me.psu.edu%2Fcimbala%2Fme345%2FExams%2FCritical_values_linear_correclation.pdf&usg=AOvVaw0aSAcnmg3OPww3PWVlMyQw)\n",
    "<br>-->To detrend: [ xscale.signal.fitting.detrend(data, dim=None, type='linear')](https://xscale.readthedocs.io/en/latest/generated/xscale.signal.fitting.detrend.html)"
   ]
  },
  {
   "cell_type": "code",
   "execution_count": null,
   "id": "814986ce-2120-436b-b0e0-6f9477333f89",
   "metadata": {},
   "outputs": [],
   "source": []
  },
  {
   "cell_type": "code",
   "execution_count": null,
   "id": "057d49e3-d2c7-42a7-b8df-a1eb0dfa460c",
   "metadata": {},
   "outputs": [],
   "source": []
  },
  {
   "cell_type": "markdown",
   "id": "20055f17-08fd-412c-a0be-a9cce0fa34c3",
   "metadata": {},
   "source": [
    "## 4.  Analysis of the temporal evolution of snow in Grenoble\n",
    "## Tasks\n",
    "-----"
   ]
  },
  {
   "cell_type": "markdown",
   "id": "7e801f98-03d6-4ca3-9c9f-8ff09560a619",
   "metadata": {},
   "source": [
    "Indicate the annual snowy days (Temperature<0, and precipiataion>0) and plot the time series. \n",
    "<br>Calculate the trend and its significance. Plot the trends.\n",
    "<br>What can you conclude about the the temporal changes of snow cover in Grenoble?\n"
   ]
  },
  {
   "cell_type": "code",
   "execution_count": null,
   "id": "eec5b16e-8871-4718-870f-194265b1f7d2",
   "metadata": {},
   "outputs": [],
   "source": []
  },
  {
   "cell_type": "code",
   "execution_count": null,
   "id": "d970485a-0487-4fb8-bd00-f6622a64206d",
   "metadata": {},
   "outputs": [],
   "source": []
  }
 ],
 "metadata": {
  "kernelspec": {
   "display_name": "Python 3 (ipykernel)",
   "language": "python",
   "name": "python3"
  },
  "language_info": {
   "codemirror_mode": {
    "name": "ipython",
    "version": 3
   },
   "file_extension": ".py",
   "mimetype": "text/x-python",
   "name": "python",
   "nbconvert_exporter": "python",
   "pygments_lexer": "ipython3",
   "version": "3.8.13"
  }
 },
 "nbformat": 4,
 "nbformat_minor": 5
}
