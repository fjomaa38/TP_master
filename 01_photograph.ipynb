{
 "cells": [
  {
   "cell_type": "markdown",
   "id": "8ecdd920-0ccb-4fff-993c-790dc13f491c",
   "metadata": {},
   "source": [
    "### <br><b> Introduction to data analysis_TP1</b>\n",
    "\n",
    "Most optical sensors have two defects: 1) a *\"thermal\"* noise like many other sensors, and 2) a non-zero level even when they are black, which calls *\"dark current\"*. We will try to measure this level on the cameras of your cell phones.\n",
    "\n",
    "Our objective here is to introduce you to numppy, matplotlib packages:\n",
    "- Numpy library adds support for large, multi-dimensional arrays and matrices, along with a large collection of high-level mathematical functions to operate on these arrays (eg. max/min, mean, standard deviation). \n",
    "- And matplotlib library allows to create static, animated, and interactive visualizations in Python\n",
    "\n",
    "<br><b>Tasks:</b>\n",
    "> 1 - Take a photo by obstructing the lens of your mobile phone as best as possible and transfer the file to your computer (by email or otherwise). In jupyter, use \"upload\" to transfer your image to \"/Data/Photo\" file in your notebook space.\n",
    "<br><br>2 - Open the image as laid later on \n",
    "<br><br>3-plot the data with the plot command of matplotlib (find its use on the internet). Note that due to the \"import maplotlib.pyplot as plt\" command, you will have prefix \"plt. \" for all matplotlib commands. In some examples on the internet you might encounter a different prefix or even sometimes no prefix. These examples will have to be adapted ...\n",
    "<br><br>4 - with numpy, calculate the min, max and median values, the mean and the standard deviation. Same remark as above, because of the command \"import numpy as np\", it will be necessary to have prefix \"np. » for all numpy commands.\n",
    "<br><br>5 - Does your camera have a non-zero \"dark currnet\"?\n",
    "<br><br>6 - plot the histogram with matplotlib. Choose the limits (look for the doc on the internet) to see what happens close to 0.\n",
    "<br><br>7 - To go further: with numpy calculate the% of values = 0, and the% of values <= 1\n",
    "<br><br>8 - Increase the luminosity of the photo and display it using the function imshow. How do you interpret white pixels in the output ?\n",
    "<br><br>9 - Determine the average grain size using :\n",
    "    <br>  a) autocorrelation functions from the statsmodel package\n",
    "    <br>  b) Fourier transforms from numpy.fft\n",
    "<br><br>10 - Is there a qualitative difference between the horizontal and vertical length scales ?\n",
    "\n",
    "\n",
    " \n",
    "\n",
    "\n",
    "\n",
    "    "
   ]
  },
  {
   "cell_type": "markdown",
   "id": "e84b54f5-33a8-41fc-b396-7ab6e3576e54",
   "metadata": {},
   "source": [
    "### >> <b> Load Libraries</b>\n",
    "First step is to import all libraries that will be used!"
   ]
  },
  {
   "cell_type": "code",
   "execution_count": 21,
   "id": "6404cffa-3cda-441d-80c6-ca23494e012c",
   "metadata": {},
   "outputs": [],
   "source": [
    "# to render your plots in your notebook %matplotlib inline \n",
    "%matplotlib inline \n",
    "import matplotlib.pyplot as plt # for plots \n",
    "import numpy as np\n",
    "import imageio as im # to read image data"
   ]
  },
  {
   "cell_type": "markdown",
   "id": "1fb46da6-8a35-4d19-9144-74f8e6219e5b",
   "metadata": {},
   "source": [
    "## >> <b> Let's get started </b>\n"
   ]
  },
  {
   "cell_type": "markdown",
   "id": "61a4922b-79f2-4ba5-8bc6-5e75e9da6049",
   "metadata": {},
   "source": [
    "#### <b>1)  Import your image </b>\n",
    "For that we will use imageio library, and function imread\n",
    "<br><b> /!\\ </b> Do not forget to change the path/name of the photo ^^"
   ]
  },
  {
   "cell_type": "code",
   "execution_count": 41,
   "id": "e414ab4d-2d38-40f5-ad8d-5cea44d46659",
   "metadata": {},
   "outputs": [],
   "source": [
    "img=im.imread('~/TP_master/Data/Photo/JOMAA_photo.jpg')"
   ]
  },
  {
   "cell_type": "markdown",
   "id": "8792ac73-56ce-41fb-bbc6-822ed0f0ebbf",
   "metadata": {},
   "source": [
    "#### <b> 2) PLot the image </b>\n"
   ]
  },
  {
   "cell_type": "code",
   "execution_count": null,
   "id": "2d27fa75-96fc-48f1-aaf7-42cd5df4583d",
   "metadata": {},
   "outputs": [
    {
     "data": {
      "text/plain": [
       "<matplotlib.image.AxesImage at 0x2b55d3f6a1f0>"
      ]
     },
     "execution_count": 53,
     "metadata": {},
     "output_type": "execute_result"
    },
    {
     "data": {
      "image/png": "[encoded data removed]",
      "text/plain": [
       "<Figure size 432x288 with 1 Axes>"
      ]
     },
     "metadata": {
      "needs_background": "light"
     },
     "output_type": "display_data"
    }
   ],
   "source": [
    "plt.imshow(img)"
   ]
  },
  {
   "cell_type": "markdown",
   "id": "d0e405c7-58f9-430d-a90c-66d7317fbe13",
   "metadata": {},
   "source": [
    "#### <b> 3) Accessing Image Properties </b>\n",
    "Check the shape and size of your image\n",
    "<br>As you can see for BGR image, it returns an array of Blue, Green, Red values."
   ]
  },
  {
   "cell_type": "code",
   "execution_count": 54,
   "id": "20dc73bc-6bf1-442a-ae0a-1dcdd481bde7",
   "metadata": {},
   "outputs": [
    {
     "name": "stdout",
     "output_type": "stream",
     "text": [
      "(1920, 1080, 3)\n",
      "6220800\n"
     ]
    }
   ],
   "source": [
    "img.shape # image shape (height,width,channels)\n",
    "img.size  # total number of pixels \n",
    "\n",
    "# To print the results:\n",
    "print(img.shape)\n",
    "print(img.size)"
   ]
  },
  {
   "cell_type": "markdown",
   "id": "8c942258-21b1-4945-8a3a-0b01ff4b59d3",
   "metadata": {},
   "source": [
    "> <b>Why it's important to check the shape of the image :)</b>\n",
    " <br>If an image is grayscale, the returned array will only contain the number of rows and columns, so it is a good method to check whether the loaded image is grayscale or color. Do not hesitate to try it if you are curious ^^"
   ]
  },
  {
   "cell_type": "markdown",
   "id": "00316140-07f1-4f14-a796-8142cbba360f",
   "metadata": {},
   "source": [
    "<br>You can access a pixel value by its row and column coordinates:"
   ]
  },
  {
   "cell_type": "code",
   "execution_count": 59,
   "id": "c2531971-b7c4-4a78-9766-b0db4a2163a2",
   "metadata": {},
   "outputs": [
    {
     "name": "stdout",
     "output_type": "stream",
     "text": [
      "[255 255 255]\n",
      "255\n",
      "[255 255 255 ... 255 255 255]\n"
     ]
    }
   ],
   "source": [
    "px = img[100,100]\n",
    "print( px )\n",
    "\n",
    "# accessing only blue pixel\n",
    "blue = img[100,100,0]\n",
    "print(blue)\n",
    "\n",
    "# accessing only blue channel\n",
    "B=img[:,:,0].flatten()\n",
    "print(B)"
   ]
  },
  {
   "cell_type": "markdown",
   "id": "0a5c122b-4c6a-4c79-b3a2-fd59d022a2d3",
   "metadata": {},
   "source": [
    "> The above method is normally used for selecting a region of an array, say the first 10 rows and last 2 columns. \n",
    "> For individual pixel access, the Numpy array methods, array.item() and array.itemset() are considered better. They always return a scalar, however, so if you want to access all the B,G,R values, you will need to call array.item() separately for each value."
   ]
  },
  {
   "cell_type": "markdown",
   "id": "3f185914-fb96-46e1-ac33-6330cfc1c582",
   "metadata": {},
   "source": [
    "#### <b> 4) Statistical analysis </b>\n",
    "Calculate max,min, mean, standard deviation using numpy "
   ]
  },
  {
   "cell_type": "code",
   "execution_count": null,
   "id": "c3620ec4-152f-4ce0-8a21-c4f394e79c6b",
   "metadata": {},
   "outputs": [],
   "source": []
  },
  {
   "cell_type": "code",
   "execution_count": null,
   "id": "c14ec26a-a2af-4e27-9dce-76e067f52277",
   "metadata": {},
   "outputs": [],
   "source": []
  },
  {
   "cell_type": "code",
   "execution_count": 61,
   "id": "c1550df4-3a6a-4089-908f-1a2276928ff3",
   "metadata": {},
   "outputs": [
    {
     "data": {
      "text/plain": [
       "(array([0.000000e+00, 0.000000e+00, 0.000000e+00, 0.000000e+00,\n",
       "        0.000000e+00, 0.000000e+00, 0.000000e+00, 0.000000e+00,\n",
       "        0.000000e+00, 0.000000e+00, 0.000000e+00, 0.000000e+00,\n",
       "        0.000000e+00, 0.000000e+00, 5.600000e+01, 2.580000e+02,\n",
       "        2.550000e+02, 3.670000e+02, 7.060000e+02, 9.470000e+02,\n",
       "        1.087000e+03, 1.282000e+03, 4.293000e+03, 1.319500e+04,\n",
       "        2.051154e+06]),\n",
       " array([180.  , 183.04, 186.08, 189.12, 192.16, 195.2 , 198.24, 201.28,\n",
       "        204.32, 207.36, 210.4 , 213.44, 216.48, 219.52, 222.56, 225.6 ,\n",
       "        228.64, 231.68, 234.72, 237.76, 240.8 , 243.84, 246.88, 249.92,\n",
       "        252.96, 256.  ]),\n",
       " <BarContainer object of 25 artists>)"
      ]
     },
     "execution_count": 61,
     "metadata": {},
     "output_type": "execute_result"
    },
    {
     "data": {
      "image/png": "[encoded data removed]",
      "text/plain": [
       "<Figure size 432x288 with 1 Axes>"
      ]
     },
     "metadata": {
      "needs_background": "light"
     },
     "output_type": "display_data"
    }
   ],
   "source": [
    "plt.hist(B,bins=25,range=(180,256))"
   ]
  },
  {
   "cell_type": "code",
   "execution_count": null,
   "id": "87292e4e-4310-4bfe-a627-023a16ce2769",
   "metadata": {},
   "outputs": [],
   "source": []
  }
 ],
 "metadata": {
  "kernelspec": {
   "display_name": "Python 3 (ipykernel)",
   "language": "python",
   "name": "python3"
  },
  "language_info": {
   "codemirror_mode": {
    "name": "ipython",
    "version": 3
   },
   "file_extension": ".py",
   "mimetype": "text/x-python",
   "name": "python",
   "nbconvert_exporter": "python",
   "pygments_lexer": "ipython3",
   "version": "3.8.12"
  }
 },
 "nbformat": 4,
 "nbformat_minor": 5
}
